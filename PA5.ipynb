{
 "cells": [
  {
   "cell_type": "code",
   "execution_count": 1,
   "id": "c5e3c2a5",
   "metadata": {},
   "outputs": [
    {
     "name": "stdout",
     "output_type": "stream",
     "text": [
      "Give an English word listed for a phonetic Korean translation (Enter stop to stop): shoe\n",
      "sinbal\n",
      "Give an English word listed for a phonetic Korean translation (Enter stop to stop): shirt\n",
      "syeocheu\n",
      "Give an English word listed for a phonetic Korean translation (Enter stop to stop): dance\n",
      "daenseu\n",
      "Give an English word listed for a phonetic Korean translation (Enter stop to stop): heart\n",
      "ma-eum\n",
      "Give an English word listed for a phonetic Korean translation (Enter stop to stop): class\n",
      "sueob\n",
      "Give an English word listed for a phonetic Korean translation (Enter stop to stop): stop\n"
     ]
    }
   ],
   "source": [
    "Kor_Engdict= {\"hello\":\"annyeonghasibnikka\",\n",
    "              \"goodbye\":\"annyeong\",\n",
    "              \"dog\":\"gae\",\n",
    "              \"cat\":\"goyang-i\",\n",
    "              \"away\":\"tteol-eojyeoissneun\",\n",
    "              \"ouch\":\"aya\",\n",
    "              \"paper\":\"jong-i\",\n",
    "              \"work\":\"ilhada\",\n",
    "              \"stop\":\"meomchuda\" ,\n",
    "              \"fun\":\"jaemiissneun\",\n",
    "              \"orange\":\"juhwangsaeg\",\n",
    "              \"heart\":\"ma-eum\",\n",
    "              \"shirt\":\"syeocheu\",\n",
    "              \"pants\":\"baji\",\n",
    "              \"shoe\":\"sinbal\",\n",
    "              \"dance\":\"daenseu\",\n",
    "              \"computer\":\"keompyuteo\",\n",
    "              \"monitor\":\"gamsi jangchi\",\n",
    "              \"gaming\":\"noleum\",\n",
    "              \"class\":\"sueob\"\n",
    "             }\n",
    "word=input(\"Give an English word listed for a phonetic Korean translation (Enter stop to stop): \")\n",
    "while True:\n",
    "    if word=='stop':\n",
    "        break\n",
    "    else:\n",
    "        print(Kor_Engdict[word])\n",
    "        word=input(\"Give an English word listed for a phonetic Korean translation (Enter stop to stop): \")"
   ]
  },
  {
   "cell_type": "code",
   "execution_count": 2,
   "id": "6a8e999a",
   "metadata": {},
   "outputs": [
    {
     "name": "stdout",
     "output_type": "stream",
     "text": [
      "{1: 27.22222222222222, 2: 26.666666666666668, 3: 27.22222222222222, 4: 27.77777777777778, 5: 26.11111111111111, 6: 28.88888888888889, 7: 29.444444444444443, 8: 27.22222222222222, 9: 26.11111111111111, 10: 26.666666666666668, 11: 27.77777777777778, 12: 30.0, 13: 31.11111111111111, 14: 31.11111111111111, 15: 26.666666666666668, 16: 28.333333333333332, 17: 30.0, 18: 30.555555555555557, 19: 28.88888888888889, 20: 24.444444444444443, 21: 25.555555555555557, 22: 16.11111111111111, 23: 20.0, 24: 22.77777777777778, 25: 22.22222222222222, 26: 24.444444444444443, 27: 27.77777777777778, 28: 29.444444444444443, 29: 29.444444444444443, 30: 28.333333333333332}\n",
      "The coolest daay was on September 22\n",
      "The second hottest day was on September 13\n",
      "The second hottest day was on September 14\n"
     ]
    }
   ],
   "source": [
    "dict1 = {1: 81, \n",
    "         2: 80, \n",
    "         3: 81, \n",
    "         4: 82,\n",
    "         5: 79,\n",
    "         6: 84,\n",
    "         7: 85,\n",
    "         8: 81,\n",
    "         9: 79,\n",
    "         10:80,\n",
    "         11:82,\n",
    "         12:86,\n",
    "         13:88,\n",
    "         14:88,\n",
    "         15:80,\n",
    "         16:83,\n",
    "         17:86,\n",
    "         18:87,\n",
    "         19:84,\n",
    "         20:76,\n",
    "         21:78,\n",
    "         22:61,\n",
    "         23:68,\n",
    "         24:73,\n",
    "         25:72,\n",
    "         26:76,\n",
    "         27:82,\n",
    "         28:85,\n",
    "         29:85,\n",
    "         30:83}\n",
    "x=list(dict1.values())\n",
    "y=list(dict1.keys())\n",
    "\n",
    "for i in dict1:\n",
    "    dict1[i]=(dict1[i]-32)*5/9\n",
    "print(dict1)\n",
    "\n",
    "coolest=min(dict1.values())\n",
    "for key in dict1:\n",
    "    if dict1[key]==coolest:\n",
    "        print(\"The coolest daay was on September\", key)\n",
    "max2= (list(sorted(dict1.values()))[-2])\n",
    "for key in dict1:\n",
    "    if dict1[key]==max2:\n",
    "        print(\"The second hottest day was on September\", key)"
   ]
  },
  {
   "cell_type": "markdown",
   "id": "863252ab",
   "metadata": {},
   "source": [
    ".isdisjoint(): returns true if no items in Set A are in present B"
   ]
  },
  {
   "cell_type": "code",
   "execution_count": 24,
   "id": "171b170f",
   "metadata": {},
   "outputs": [
    {
     "data": {
      "text/plain": [
       "False"
      ]
     },
     "execution_count": 24,
     "metadata": {},
     "output_type": "execute_result"
    }
   ],
   "source": [
    "set1={23,45,68,56}\n",
    "set2={45,23,68,56,47}\n",
    "set1.isdisjoint(set2)"
   ]
  },
  {
   "cell_type": "markdown",
   "id": "807221af",
   "metadata": {},
   "source": [
    "Symmetric Differnce: elements of both sets that are not in common with each other will be shown"
   ]
  },
  {
   "cell_type": "code",
   "execution_count": 28,
   "id": "cb00e7e8",
   "metadata": {},
   "outputs": [
    {
     "data": {
      "text/plain": [
       "{14, 47, 90}"
      ]
     },
     "execution_count": 28,
     "metadata": {},
     "output_type": "execute_result"
    }
   ],
   "source": [
    "set1={23,45,68,56}\n",
    "set2={45,23,68,56,90,56,14,47}\n",
    "set1^set2"
   ]
  },
  {
   "cell_type": "code",
   "execution_count": null,
   "id": "4cd05313",
   "metadata": {},
   "outputs": [],
   "source": []
  }
 ],
 "metadata": {
  "kernelspec": {
   "display_name": "Python 3",
   "language": "python",
   "name": "python3"
  },
  "language_info": {
   "codemirror_mode": {
    "name": "ipython",
    "version": 3
   },
   "file_extension": ".py",
   "mimetype": "text/x-python",
   "name": "python",
   "nbconvert_exporter": "python",
   "pygments_lexer": "ipython3",
   "version": "3.8.8"
  }
 },
 "nbformat": 4,
 "nbformat_minor": 5
}
